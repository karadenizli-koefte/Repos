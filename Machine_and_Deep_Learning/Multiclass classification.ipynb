{
 "cells": [
  {
   "cell_type": "code",
   "execution_count": 825,
   "metadata": {},
   "outputs": [],
   "source": [
    "#Import modules\n",
    "import numpy as np\n",
    "from sklearn import datasets\n",
    "import pandas as pd\n",
    "import matplotlib.pyplot as plt\n",
    "#import random\n",
    "from sklearn.utils import shuffle"
   ]
  },
  {
   "cell_type": "code",
   "execution_count": 826,
   "metadata": {},
   "outputs": [
    {
     "name": "stdout",
     "output_type": "stream",
     "text": [
      "X_train.shape = (3, 90)\n",
      "y_train.shape = (3, 90)\n",
      "y_train_real.shape = (90,)\n",
      "X_test.shape = (3, 60)\n",
      "y_test.shape = (3, 60)\n",
      "y_test_real.shape = (60,)\n"
     ]
    }
   ],
   "source": [
    "# import some data to play with\n",
    "iris = datasets.load_iris()\n",
    "\n",
    "X = iris.data[:, :3].T\n",
    "y = iris.target.T\n",
    "\n",
    "Y1 = np.select([y == 0], [1])\n",
    "Y2 = np.select([y == 1], [1])\n",
    "Y3 = np.select([y == 2], [1])\n",
    "Y = np.stack((Y1, Y2, Y3))\n",
    "\n",
    "X = X.T\n",
    "Y = Y.T\n",
    "y = y.T\n",
    "\n",
    "#xxx = X[0,:]\n",
    "\n",
    "#print(\"X[0,:] = \" + str(X[0,:]))\n",
    "#print(\"Y[0,:] = \" + str(Y[0,:]))\n",
    "#print(\"y[0]= \" + str(y[0]))\n",
    "\n",
    "# Shuffle data\n",
    "XS, YS, yy = shuffle(X, Y, y)\n",
    "\n",
    "#test = np.where((XS==xxx).all(axis=1))[0]\n",
    "\n",
    "#print(\"XS[i,:] = \" + str(XS[test[0],:]))\n",
    "#print(\"YS[i,:] = \" + str(YS[test[0],:]))\n",
    "#print(\"yy[i] = \" + str(yy[test[0]]))\n",
    "\n",
    "X = XS.T\n",
    "Y = YS.T\n",
    "y = yy.T\n",
    "\n",
    "m = X.shape[1]\n",
    "\n",
    "# use 60 % for training and 40 % for test.\n",
    "max = int(m * 0.6)\n",
    "\n",
    "# Traing set\n",
    "X_train = X[:, :max]\n",
    "y_train = Y[:, :max]\n",
    "y_train_real = y[:max]\n",
    "\n",
    "# Test set\n",
    "X_test = X[:, max:m]\n",
    "y_test = Y[:, max:m]\n",
    "y_test_real = y[max:m]\n",
    "\n",
    "print(\"X_train.shape = \" + str(X_train.shape))\n",
    "print(\"y_train.shape = \" + str(y_train.shape))\n",
    "print(\"y_train_real.shape = \" + str(y_train_real.shape))\n",
    "print(\"X_test.shape = \" + str(X_test.shape))\n",
    "print(\"y_test.shape = \" + str(y_test.shape))\n",
    "print(\"y_test_real.shape = \" + str(y_test_real.shape))"
   ]
  },
  {
   "cell_type": "code",
   "execution_count": 827,
   "metadata": {},
   "outputs": [],
   "source": [
    "def initialize_parameters(nx, nh, ny):\n",
    "    W1 = np.random.randn(nh, nx) * 0.01\n",
    "    b1 = np.zeros((nh, 1))\n",
    "    W2 = np.random.randn(ny, nh) * 0.01\n",
    "    b2 = np.zeros((ny, 1))\n",
    "    \n",
    "    parameters = {\n",
    "        \"W1\": W1,\n",
    "        \"b1\": b1,\n",
    "        \"W2\": W2,\n",
    "        \"b2\": b2\n",
    "    }\n",
    "    \n",
    "    return parameters"
   ]
  },
  {
   "cell_type": "code",
   "execution_count": 828,
   "metadata": {},
   "outputs": [],
   "source": [
    "# tanh activation function\n",
    "def tanh(x):\n",
    "    return (np.exp(x) - np.exp(-x)) / (np.exp(x) + np.exp(-x))"
   ]
  },
  {
   "cell_type": "code",
   "execution_count": 829,
   "metadata": {},
   "outputs": [],
   "source": [
    "def sigmoid(z):\n",
    "    return 1 / (1 + np.exp(-z))"
   ]
  },
  {
   "cell_type": "code",
   "execution_count": 830,
   "metadata": {},
   "outputs": [],
   "source": [
    "def propagate_forward(X, parameters):\n",
    "    W1 = parameters[\"W1\"]\n",
    "    b1 = parameters[\"b1\"]\n",
    "    W2 = parameters[\"W2\"]\n",
    "    b2 = parameters[\"b2\"]\n",
    "    \n",
    "    Z1 = np.dot(W1, X) + b1\n",
    "    A1 = np.tanh(Z1)\n",
    "    Z2 = np.dot(W2, A1) + b2\n",
    "    A2 = sigmoid(Z2)\n",
    "    \n",
    "    #print(\"Z1\" + str(Z1.shape))\n",
    "    #print(\"A1\" + str(A1.shape))\n",
    "    #print(\"Z2\" + str(Z2.shape))\n",
    "    #print(\"A2\" + str(A2.shape))\n",
    "    \n",
    "    cache = {\n",
    "        \"Z1\" : Z1,\n",
    "        \"A1\" : A1,\n",
    "        \"Z2\" : Z2,\n",
    "        \"A2\" : A2\n",
    "    }\n",
    "    \n",
    "    return cache"
   ]
  },
  {
   "cell_type": "code",
   "execution_count": 831,
   "metadata": {},
   "outputs": [],
   "source": [
    "def calculate_cost(A2, Y):\n",
    "    m = Y.shape[1]\n",
    "    \n",
    "    logprobs = np.multiply(np.log(A2),Y) + np.multiply(np.log(1 - A2),1 - Y)\n",
    "    cost = - np.sum(logprobs) / m\n",
    "    \n",
    "    cost = float(np.squeeze(cost))\n",
    "    return cost"
   ]
  },
  {
   "cell_type": "code",
   "execution_count": 832,
   "metadata": {},
   "outputs": [],
   "source": [
    "def propagate_backward(X, Y, parameters, cache):\n",
    "    m = X.shape[1]\n",
    "    W1 = parameters[\"W1\"]\n",
    "    b1 = parameters[\"b1\"]\n",
    "    W2 = parameters[\"W2\"]\n",
    "    b2 = parameters[\"b2\"]\n",
    "    A1 = cache[\"A1\"]\n",
    "    A2 = cache[\"A2\"]\n",
    "    \n",
    "    dZ2 = A2 - Y\n",
    "    dW2 = 1. / m * np.dot(dZ2, A1.T)\n",
    "    db2 = 1. / m * np.sum(dZ2, axis=1, keepdims=True)\n",
    "    \n",
    "    dG1 = 1 - np.power(A1, 2)\n",
    "    dZ1 = np.dot(W2.T, dZ2) * dG1\n",
    "    dW1 = 1. / m * np.dot(dZ1, X.T)\n",
    "    db1 = 1. / m * np.sum(dZ1, axis=1, keepdims=True)\n",
    "    \n",
    "    grads = {\n",
    "        \"dW1\" : dW1,\n",
    "        \"db1\" : db1,\n",
    "        \"dW2\" : dW2,\n",
    "        \"db2\" : db2,\n",
    "    }\n",
    "    \n",
    "    return grads"
   ]
  },
  {
   "cell_type": "code",
   "execution_count": 833,
   "metadata": {},
   "outputs": [],
   "source": [
    "def update_parameters(parameters, grads, learning_rate=0.075):\n",
    "    W1 = parameters[\"W1\"]\n",
    "    b1 = parameters[\"b1\"]\n",
    "    W2 = parameters[\"W2\"]\n",
    "    b2 = parameters[\"b2\"]\n",
    "    \n",
    "    dW1 = grads[\"dW1\"]\n",
    "    db1 = grads[\"db1\"]\n",
    "    dW2 = grads[\"dW2\"]\n",
    "    db2 = grads[\"db2\"]\n",
    "    \n",
    "    W1 = W1 - learning_rate * dW1\n",
    "    b1 = b1 - learning_rate * db1\n",
    "    W2 = W2 - learning_rate * dW2\n",
    "    b2 = b2 - learning_rate * db2\n",
    "    \n",
    "    parameters = {\n",
    "        \"W1\": W1,\n",
    "        \"b1\": b1,\n",
    "        \"W2\": W2,\n",
    "        \"b2\": b2\n",
    "    }\n",
    "    \n",
    "    return parameters"
   ]
  },
  {
   "cell_type": "code",
   "execution_count": 834,
   "metadata": {},
   "outputs": [],
   "source": [
    "def model_neural_network(X, Y, iters=10000):\n",
    "    m = X.shape[1]\n",
    "    nx = X.shape[0]\n",
    "    nh = 3\n",
    "    ny = 3\n",
    "    parameters = initialize_parameters(nx, nh, ny)\n",
    "    costs = []\n",
    "    \n",
    "    for i in range(iters):\n",
    "        cache = propagate_forward(X, parameters)\n",
    "        A1 = cache[\"A1\"]\n",
    "        A2 = cache[\"A2\"]\n",
    "        cost = calculate_cost(A2, Y)\n",
    "        costs.append(cost)\n",
    "        grads = propagate_backward(X, Y, parameters, cache)\n",
    "        parameters = update_parameters(parameters, grads)\n",
    "        \n",
    "    return costs, cache, parameters"
   ]
  },
  {
   "cell_type": "code",
   "execution_count": 835,
   "metadata": {},
   "outputs": [],
   "source": [
    "costs, cache, parameters = model_neural_network(X_train, y_train)"
   ]
  },
  {
   "cell_type": "code",
   "execution_count": 836,
   "metadata": {},
   "outputs": [],
   "source": [
    "def predict(X, parameters):\n",
    "    cache = propagate_forward(X, parameters)\n",
    "    A = cache[\"A2\"]\n",
    "    Y_hat = np.zeros((1, A.shape[1]), dtype=int)\n",
    "    tmp = 0\n",
    "    \n",
    "    for i in range(A.shape[1]):\n",
    "        Y_hat[0, i] = A[:,i].argmax()\n",
    "    \n",
    "    return Y_hat"
   ]
  },
  {
   "cell_type": "code",
   "execution_count": 837,
   "metadata": {},
   "outputs": [
    {
     "name": "stdout",
     "output_type": "stream",
     "text": [
      "Accuracy for Training Set\t: 95%\n",
      "Accuracy for Test Set\t\t: 98%\n"
     ]
    }
   ],
   "source": [
    "#print(\"X_train.shape = \" + str(X_train.shape))\n",
    "#print(\"X_test.shape = \" + str(X_test.shape))\n",
    "\n",
    "predictions = predict(X_train, parameters)\n",
    "predictions_test = predict(X_test, parameters)\n",
    "\n",
    "#print(predictions.shape)\n",
    "#print(\"y_train_real.shape = \" + str(y_train_real.shape))\n",
    "#print(predictions_test.shape)\n",
    "#print(\"y_test_real.shape = \" + str(y_test_real.shape))\n",
    "\n",
    "#print(y_test_real == predictions_test)\n",
    "print ('Accuracy for Training Set\\t: %d' % float(np.sum(y_train_real == predictions) / y_train_real.shape[0] * 100) + '%')\n",
    "print ('Accuracy for Test Set\\t\\t: %d' % float(np.sum(y_test_real == predictions_test) / y_test_real.shape[0] * 100) + '%')"
   ]
  },
  {
   "cell_type": "code",
   "execution_count": 838,
   "metadata": {},
   "outputs": [
    {
     "data": {
      "image/png": "[encoded data removed]",
      "text/plain": [
       "<Figure size 432x288 with 1 Axes>"
      ]
     },
     "metadata": {
      "needs_background": "light"
     },
     "output_type": "display_data"
    }
   ],
   "source": [
    "# Plot learning curve (with costs)\n",
    "learning_rate=0.075\n",
    "costs = np.squeeze(costs)\n",
    "plt.plot(costs)\n",
    "plt.ylabel('cost')\n",
    "plt.xlabel('iterations (per hundreds)')\n",
    "plt.title(\"Learning rate =\" + str(learning_rate))\n",
    "plt.show()"
   ]
  },
  {
   "cell_type": "code",
   "execution_count": null,
   "metadata": {},
   "outputs": [],
   "source": []
  }
 ],
 "metadata": {
  "kernelspec": {
   "display_name": "Python 3",
   "language": "python",
   "name": "python3"
  },
  "language_info": {
   "codemirror_mode": {
    "name": "ipython",
    "version": 3
   },
   "file_extension": ".py",
   "mimetype": "text/x-python",
   "name": "python",
   "nbconvert_exporter": "python",
   "pygments_lexer": "ipython3",
   "version": "3.8.5"
  }
 },
 "nbformat": 4,
 "nbformat_minor": 4
}
