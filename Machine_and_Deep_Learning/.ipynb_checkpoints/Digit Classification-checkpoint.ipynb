{
 "cells": [
  {
   "cell_type": "code",
   "execution_count": 2,
   "metadata": {},
   "outputs": [],
   "source": [
    "import numpy as np\n",
    "from sklearn import datasets\n",
    "import pandas as pd\n",
    "import matplotlib.pyplot as plt\n",
    "#import random\n",
    "from sklearn.utils import shuffle"
   ]
  },
  {
   "cell_type": "code",
   "execution_count": 14,
   "metadata": {},
   "outputs": [
    {
     "name": "stdout",
     "output_type": "stream",
     "text": [
      "X[:,1] = [ 0.  1. 12. 16. 10.  1.  0.  0.  0.  8. 12.  3. 11.  8.  0.  0.  0. 12.\n",
      " 13.  6. 12.  8.  0.  0.  0.  3. 15. 16. 16. 16.  1.  0.  0.  0.  0.  0.\n",
      "  0. 13.  6.  0.  0.  0.  0.  0.  0.  6. 11.  0.  0.  0. 13.  0.  0.  5.\n",
      " 12.  0.  0.  0. 12. 16. 16. 16.  8.  0.]\n",
      "X.shape = (64, 1797)\n",
      "y.shape = (1797,)\n",
      "X_train.shape = (64, 1078)\n",
      "y_train.shape = (3, 1078)\n",
      "y_train_real.shape = (1078,)\n",
      "X_test.shape = (64, 719)\n",
      "y_test.shape = (3, 719)\n",
      "y_test_real.shape = (719,)\n"
     ]
    }
   ],
   "source": [
    "# import some data to play with\n",
    "digits = datasets.load_digits()\n",
    "\n",
    "X = digits.data[:, :].T\n",
    "y = digits.target.T\n",
    "\n",
    "Y1 = np.select([y == 0], [1])\n",
    "Y2 = np.select([y == 1], [1])\n",
    "Y3 = np.select([y == 2], [1])\n",
    "Y = np.stack((Y1, Y2, Y3))\n",
    "\n",
    "X = X.T\n",
    "Y = Y.T\n",
    "y = y.T\n",
    "\n",
    "# Shuffle data\n",
    "XS, YS, yy = shuffle(X, Y, y)\n",
    "\n",
    "X = XS.T\n",
    "Y = YS.T\n",
    "y = yy.T\n",
    "\n",
    "m = X.shape[1]\n",
    "\n",
    "# use 60 % for training and 40 % for test.\n",
    "max = int(m * 0.6)\n",
    "\n",
    "# Traing set\n",
    "X_train = X[:, :max]\n",
    "y_train = Y[:, :max]\n",
    "y_train_real = y[:max]\n",
    "\n",
    "# Test set\n",
    "X_test = X[:, max:m]\n",
    "y_test = Y[:, max:m]\n",
    "y_test_real = y[max:m]\n",
    "\n",
    "print(\"X.shape = \" + str(X.shape))\n",
    "print(\"y.shape = \" + str(y.shape))\n",
    "\n",
    "print(\"X_train.shape = \" + str(X_train.shape))\n",
    "print(\"y_train.shape = \" + str(y_train.shape))\n",
    "print(\"y_train_real.shape = \" + str(y_train_real.shape))\n",
    "print(\"X_test.shape = \" + str(X_test.shape))\n",
    "print(\"y_test.shape = \" + str(y_test.shape))\n",
    "print(\"y_test_real.shape = \" + str(y_test_real.shape))"
   ]
  },
  {
   "cell_type": "code",
   "execution_count": 13,
   "metadata": {},
   "outputs": [
    {
     "data": {
      "image/png": "[encoded data removed]",
      "text/plain": [
       "<Figure size 216x216 with 1 Axes>"
      ]
     },
     "metadata": {
      "needs_background": "light"
     },
     "output_type": "display_data"
    }
   ],
   "source": [
    "#Display the first digit\n",
    "plt.figure(1, figsize=(3, 3))\n",
    "plt.imshow(digits.images[-1], cmap=plt.cm.gray_r, interpolation='nearest')\n",
    "plt.show()"
   ]
  },
  {
   "cell_type": "code",
   "execution_count": null,
   "metadata": {},
   "outputs": [],
   "source": []
  }
 ],
 "metadata": {
  "kernelspec": {
   "display_name": "Python 3",
   "language": "python",
   "name": "python3"
  },
  "language_info": {
   "codemirror_mode": {
    "name": "ipython",
    "version": 3
   },
   "file_extension": ".py",
   "mimetype": "text/x-python",
   "name": "python",
   "nbconvert_exporter": "python",
   "pygments_lexer": "ipython3",
   "version": "3.8.5"
  }
 },
 "nbformat": 4,
 "nbformat_minor": 4
}
