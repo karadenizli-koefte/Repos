{
 "cells": [
  {
   "cell_type": "code",
   "execution_count": 304,
   "metadata": {},
   "outputs": [],
   "source": [
    "import numpy as np\n",
    "from sklearn import datasets\n",
    "import pandas as pd\n",
    "import matplotlib.pyplot as plt"
   ]
  },
  {
   "cell_type": "code",
   "execution_count": 327,
   "metadata": {},
   "outputs": [],
   "source": [
    "# import some data to play with\n",
    "iris = datasets.load_iris()\n",
    "\n",
    "X = iris.data[:, :3].T\n",
    "y = iris.target.T\n",
    "\n",
    "train_n = int(X.shape[1] * 2 / 3)\n",
    "\n",
    "X_train = X[:, :train_n]\n",
    "y_train = iris.target[:train_n]\n",
    "\n",
    "X_test = X[:, train_n:]\n",
    "y_test = iris.target[train_n:]\n",
    "\n",
    "m = X_train.shape[1]"
   ]
  },
  {
   "cell_type": "code",
   "execution_count": 320,
   "metadata": {},
   "outputs": [
    {
     "name": "stdout",
     "output_type": "stream",
     "text": [
      "X.shape = (3, 150)\n",
      "y.shape = (150,)\n",
      "X_train.shape = (3, 100)\n",
      "y_train.shape = (100,)\n",
      "X_test.shape = (3, 50)\n",
      "y_test.shape = (50,)\n",
      "m = 100\n",
      "X = [0 0 0 0 0 0 0 0 0 0 0 0 0 0 0 0 0 0 0 0 0 0 0 0 0 0 0 0 0 0 0 0 0 0 0 0 0\n",
      " 0 0 0 0 0 0 0 0 0 0 0 0 0 1 1 1 1 1 1 1 1 1 1 1 1 1 1 1 1 1 1 1 1 1 1 1 1\n",
      " 1 1 1 1 1 1 1 1 1 1 1 1 1 1 1 1 1 1 1 1 1 1 1 1 1 1 2 2 2 2 2 2 2 2 2 2 2\n",
      " 2 2 2 2 2 2 2 2 2 2 2 2 2 2 2 2 2 2 2 2 2 2 2 2 2 2 2 2 2 2 2 2 2 2 2 2 2\n",
      " 2 2]\n",
      "X = [0 0 0 0 0 0 0 0 0 0 0 0 0 0 0 0 0 0 0 0 0 0 0 0 0 0 0 0 0 0 0 0 0 0 0 0 0\n",
      " 0 0 0 0 0 0 0 0 0 0 0 0 0 1 1 1 1 1 1 1 1 1 1 1 1 1 1 1 1 1 1 1 1 1 1 1 1\n",
      " 1 1 1 1 1 1 1 1 1 1 1 1 1 1 1 1 1 1 1 1 1 1 1 1 1 1]\n",
      "X = [2 2 2 2 2 2 2 2 2 2 2 2 2 2 2 2 2 2 2 2 2 2 2 2 2 2 2 2 2 2 2 2 2 2 2 2 2\n",
      " 2 2 2 2 2 2 2 2 2 2 2 2 2]\n"
     ]
    }
   ],
   "source": [
    "print(\"X.shape = \" + str(X.shape))\n",
    "print(\"y.shape = \" + str(y.shape))\n",
    "\n",
    "print(\"X_train.shape = \" + str(X_train.shape))\n",
    "print(\"y_train.shape = \" + str(y_train.shape))\n",
    "\n",
    "print(\"X_test.shape = \" + str(X_test.shape))\n",
    "print(\"y_test.shape = \" + str(y_test.shape))\n",
    "\n",
    "print(\"m = \" + str(m))\n",
    "\n",
    "print(\"X = \" +str(y))\n",
    "print(\"X = \" +str(y_train))\n",
    "print(\"X = \" +str(y_test))"
   ]
  },
  {
   "cell_type": "code",
   "execution_count": 307,
   "metadata": {},
   "outputs": [],
   "source": [
    "# Initialize parameters\n",
    "def initialize_parameters(dim):\n",
    "    w = np.zeros((dim, 1), dtype=float)\n",
    "    b = 0.\n",
    "    params = {\"w\": w, \"b\": b}\n",
    "    return params"
   ]
  },
  {
   "cell_type": "code",
   "execution_count": 270,
   "metadata": {},
   "outputs": [
    {
     "name": "stdout",
     "output_type": "stream",
     "text": [
      "w = [[0.]\n",
      " [0.]]\n",
      "b = 0.0\n"
     ]
    }
   ],
   "source": [
    "dim = 2\n",
    "params = initialize_parameters(dim)\n",
    "print (\"w = \" + str(params[\"w\"]))\n",
    "print (\"b = \" + str(params[\"b\"]))"
   ]
  },
  {
   "cell_type": "code",
   "execution_count": 308,
   "metadata": {},
   "outputs": [],
   "source": [
    "# Define Sigmoid Function\n",
    "def sigmoid(Z):\n",
    "    return 1. / (1 + np.exp(-Z)) "
   ]
  },
  {
   "cell_type": "code",
   "execution_count": 272,
   "metadata": {},
   "outputs": [
    {
     "name": "stdout",
     "output_type": "stream",
     "text": [
      "sigmoid([0, 2]) = [0.5        0.88079708]\n"
     ]
    }
   ],
   "source": [
    "print (\"sigmoid([0, 2]) = \" + str(sigmoid(np.array([0,2]))))\n",
    "# sigmoid([0, 2]) = [0.5        0.88079708]"
   ]
  },
  {
   "cell_type": "code",
   "execution_count": 309,
   "metadata": {},
   "outputs": [],
   "source": [
    "# Forward Propagation\n",
    "def forward_propagation (X, params):\n",
    "    Z = np.dot(params[\"w\"].T, X) + params[\"b\"]\n",
    "    return sigmoid(Z)\n",
    "#print(\"A\" + str(A))"
   ]
  },
  {
   "cell_type": "code",
   "execution_count": 310,
   "metadata": {},
   "outputs": [],
   "source": [
    "# Cost Function\n",
    "def cost_function(m, y, A):\n",
    "    return - 1. / m * np.sum(y * np.log(A) + (1 - y) * np.log(1 - A))"
   ]
  },
  {
   "cell_type": "code",
   "execution_count": 311,
   "metadata": {},
   "outputs": [],
   "source": [
    "# Backward Propagation\n",
    "def backward_propagation(A, X, Y):\n",
    "    dZ =  A - Y\n",
    "    dw = 1. / m * np.dot(X, dZ.T)\n",
    "    db = 1. / m * np.sum(dZ)\n",
    "    grads = {\"dw\": dw,\n",
    "             \"db\": db}\n",
    "    return grads"
   ]
  },
  {
   "cell_type": "code",
   "execution_count": 261,
   "metadata": {},
   "outputs": [
    {
     "name": "stdout",
     "output_type": "stream",
     "text": [
      "[[ 1.   2.  -1. ]\n",
      " [ 3.   4.  -3.2]]\n",
      "[[1 0 1]]\n",
      "[[0.99987661 0.99999386 0.00449627]]\n",
      "dw = [[0.99845601]\n",
      " [2.39507239]]\n",
      "db = 0.001455578136784208\n",
      "cost = 5.801545319394553\n"
     ]
    }
   ],
   "source": [
    "w, b, X, Y = np.array([[1.],[2.]]), 2., np.array([[1.,2.,-1.],[3.,4.,-3.2]]), np.array([[1,0,1]])\n",
    "params = {\"w\": w, \"b\": b}\n",
    "print(X)\n",
    "print(Y)\n",
    "A = forward_propagation(X, params)\n",
    "print(A)\n",
    "m = X.shape[1]\n",
    "cost = cost_function(m, Y, A)\n",
    "grads = backward_propagation(A, X, Y)\n",
    "\n",
    "print (\"dw = \" + str(grads[\"dw\"]))\n",
    "print (\"db = \" + str(grads[\"db\"]))\n",
    "print (\"cost = \" + str(cost))\n",
    "\n",
    "# dw = [[ 0.99845601]\n",
    "# [ 2.39507239]]\n",
    "# db = 0.00145557813678\n",
    "# cost = 5.80154531939"
   ]
  },
  {
   "cell_type": "code",
   "execution_count": 312,
   "metadata": {},
   "outputs": [],
   "source": [
    "def update_parameters(w, b, grads, learning_rate):\n",
    "    w = w - learning_rate * grads[\"dw\"]\n",
    "    b = b - learning_rate * grads[\"db\"]\n",
    "    params = {\"w\": w, \"b\": b}\n",
    "    return params"
   ]
  },
  {
   "cell_type": "code",
   "execution_count": 313,
   "metadata": {},
   "outputs": [],
   "source": [
    "def model_linear_regression(X, Y, learning_rate = 0.075, iterations = 100):\n",
    "    m = X.shape[1]\n",
    "    dim = X.shape[0]\n",
    "    params = initialize_parameters(dim)\n",
    "    costs = []\n",
    "    \n",
    "    for i in range(iterations):\n",
    "        A = forward_propagation (X, params)\n",
    "        costs.append(cost_function(m, Y, A))\n",
    "        grads = backward_propagation(A, X, Y)\n",
    "        params = update_parameters(params[\"w\"], params[\"b\"], grads, learning_rate)\n",
    "        \n",
    "    return params, grads, costs    "
   ]
  },
  {
   "cell_type": "code",
   "execution_count": 337,
   "metadata": {},
   "outputs": [],
   "source": [
    "# Model linear regression\n",
    "learning_rate = 0.009\n",
    "iterations = 100\n",
    "params, grads, co = model_linear_regression(X_train, y_train, learning_rate, iterations)"
   ]
  },
  {
   "cell_type": "code",
   "execution_count": 338,
   "metadata": {},
   "outputs": [
    {
     "data": {
      "image/png": "[encoded data removed]",
      "text/plain": [
       "<Figure size 432x288 with 1 Axes>"
      ]
     },
     "metadata": {
      "needs_background": "light"
     },
     "output_type": "display_data"
    }
   ],
   "source": [
    "# Plot learning curve (with costs)\n",
    "costs = np.squeeze(co)\n",
    "plt.plot(costs)\n",
    "plt.ylabel('cost')\n",
    "plt.xlabel('iterations (per hundreds)')\n",
    "plt.title(\"Learning rate =\" + str(learning_rate))\n",
    "plt.show()"
   ]
  },
  {
   "cell_type": "code",
   "execution_count": 339,
   "metadata": {},
   "outputs": [],
   "source": [
    "def predict(X, params):\n",
    "    m = X.shape[1]\n",
    "    A = forward_propagation (X, params)\n",
    "    result = np.zeros((1, m))\n",
    "    for i in range(A.shape[1]):\n",
    "        if A[0,i] > 0.5:\n",
    "            result[0,i] = 1\n",
    "        else:\n",
    "            result[0,i] = 0\n",
    "            \n",
    "    return result"
   ]
  },
  {
   "cell_type": "code",
   "execution_count": 330,
   "metadata": {},
   "outputs": [
    {
     "name": "stdout",
     "output_type": "stream",
     "text": [
      "predictions = [[1. 1. 0.]]\n"
     ]
    }
   ],
   "source": [
    "w_test = np.array([[0.1124579],[0.23106775]])\n",
    "b_test = -0.3\n",
    "params_test = {\"w\": w_test, \"b\": b_test}\n",
    "X_t = np.array([[1.,-1.1,-3.2],[1.2,2.,0.1]])\n",
    "res = predict(X_t, params_test)\n",
    "\n",
    "print (\"predictions = \" + str(res))"
   ]
  },
  {
   "cell_type": "code",
   "execution_count": 340,
   "metadata": {},
   "outputs": [
    {
     "name": "stdout",
     "output_type": "stream",
     "text": [
      "train accuracy: 100.0 %\n",
      "test accuracy: 100.0 %\n"
     ]
    }
   ],
   "source": [
    "predictions_train = predict(X_train, params)\n",
    "predictions_test = predict(X_test, params)\n",
    "\n",
    "y_binary = np.where(y_train > 0.5, 1, 0)\n",
    "y_binary_test = np.where(y_test > 0.5, 1, 0)\n",
    "\n",
    "# Print train/test Errors\n",
    "print(\"train accuracy: {} %\".format(100 - np.mean(np.abs(predictions_train - y_binary)) * 100))\n",
    "print(\"test accuracy: {} %\".format(100 - np.mean(np.abs(predictions_test - y_binary_test)) * 100))"
   ]
  },
  {
   "cell_type": "code",
   "execution_count": null,
   "metadata": {},
   "outputs": [],
   "source": []
  }
 ],
 "metadata": {
  "kernelspec": {
   "display_name": "Python 3",
   "language": "python",
   "name": "python3"
  },
  "language_info": {
   "codemirror_mode": {
    "name": "ipython",
    "version": 3
   },
   "file_extension": ".py",
   "mimetype": "text/x-python",
   "name": "python",
   "nbconvert_exporter": "python",
   "pygments_lexer": "ipython3",
   "version": "3.8.5"
  }
 },
 "nbformat": 4,
 "nbformat_minor": 4
}
